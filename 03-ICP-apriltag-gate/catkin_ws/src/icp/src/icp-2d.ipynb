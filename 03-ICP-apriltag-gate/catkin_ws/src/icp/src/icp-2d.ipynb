{
 "cells": [
  {
   "cell_type": "code",
   "execution_count": null,
   "metadata": {},
   "outputs": [],
   "source": [
    "import numpy as np\n",
    "import matplotlib.pyplot as plt"
   ]
  },
  {
   "cell_type": "code",
   "execution_count": null,
   "metadata": {},
   "outputs": [],
   "source": [
    "\n",
    "\n",
    "gate_poses = np.array([[0.501, 1.326],      # tag 4\n",
    "                        [0.4675, 0.2515],    # tag 5\n",
    "                        [0.4835, -1.34]])    # tag 6\n",
    "\n",
    "tag_poses = np.array([[ 4.53256715,  1.32114674],\n",
    "                         [ 4.57090491,  0.29619518],\n",
    "                         [ 4.5174239,  -1.32085923]])\n",
    "\n",
    "# gate_poses = np.array([[2,2],      # tag 4\n",
    "#                     [6,2],    # tag 5\n",
    "#                     [6,6]])    # tag 6\n",
    "\n",
    "# tag_poses = np.array([[3,2],      # tag 4\n",
    "#                     [7,2],    # tag 5\n",
    "#                     [7,6]])   \n",
    "\n",
    "\n",
    "plt.scatter(gate_poses[:,0],gate_poses[:,1])\n",
    "plt.scatter(tag_poses[:,0],tag_poses[:,1])\n",
    "plt.show()"
   ]
  },
  {
   "cell_type": "code",
   "execution_count": null,
   "metadata": {},
   "outputs": [],
   "source": [
    "def best_fit_transform( model, target):\n",
    "        # calculate centroid\n",
    "        c_target = np.mean(target, axis=0)\n",
    "        c_model = np.mean(model, axis=0)\n",
    "\n",
    "        # de mean\n",
    "        m_target = (target-c_target).T\n",
    "        m_model = (model-c_model).T\n",
    "\n",
    "        # calculate correlation matrix\n",
    "        H = np.matmul(m_target, m_model.T)\n",
    "\n",
    "        # SVD decompose\n",
    "        U, D, V = np.linalg.svd(H)\n",
    "\n",
    "        # get Rotation & Translation\n",
    "        rotation = np.dot(U, V)\n",
    "        translation = c_model - np.dot(rotation, c_target)\n",
    "\n",
    "        # combine matrix\n",
    "        transform = np.identity(target.shape[1]+1)\n",
    "        transform[0:target.shape[1], 0:target.shape[1]] = rotation\n",
    "        transform[0:target.shape[1], target.shape[1]] = translation\n",
    "\n",
    "        return transform"
   ]
  },
  {
   "cell_type": "code",
   "execution_count": null,
   "metadata": {},
   "outputs": [],
   "source": [
    "total_tf = np.identity(tag_poses.shape[0])\n",
    "for iteration in range(5):\n",
    "    transform = best_fit_transform(gate_poses,tag_poses)\n",
    "    print('transform:\\n',transform)\n",
    "    total_tf = np.dot(transform,total_tf)\n",
    "    \n",
    "    for i in range(tag_poses.shape[0]):\n",
    "        tag_poses[i] = transform[0:2, 2] + np.matmul(transform[0:2, 0:2], tag_poses[i])\n",
    "    print('l2:', np.linalg.norm(gate_poses-tag_poses))\n",
    "    plt.scatter(gate_poses[:,0],gate_poses[:,1])\n",
    "    plt.scatter(tag_poses[:,0],tag_poses[:,1])\n",
    "    plt.show()\n",
    "\n",
    "print('total tf:\\n',total_tf)"
   ]
  },
  {
   "cell_type": "code",
   "execution_count": null,
   "metadata": {},
   "outputs": [],
   "source": []
  },
  {
   "cell_type": "code",
   "execution_count": null,
   "metadata": {},
   "outputs": [],
   "source": []
  }
 ],
 "metadata": {
  "kernelspec": {
   "display_name": "Python 3",
   "language": "python",
   "name": "python3"
  },
  "language_info": {
   "codemirror_mode": {
    "name": "ipython",
    "version": 3
   },
   "file_extension": ".py",
   "mimetype": "text/x-python",
   "name": "python",
   "nbconvert_exporter": "python",
   "pygments_lexer": "ipython3",
   "version": "3.6.9"
  }
 },
 "nbformat": 4,
 "nbformat_minor": 2
}
