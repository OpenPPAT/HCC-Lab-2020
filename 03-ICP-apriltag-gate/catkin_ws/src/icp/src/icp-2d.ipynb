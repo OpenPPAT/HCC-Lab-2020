{
 "cells": [
  {
   "cell_type": "markdown",
   "metadata": {},
   "source": [
    "# ICP 2D"
   ]
  },
  {
   "cell_type": "code",
   "execution_count": null,
   "metadata": {},
   "outputs": [],
   "source": [
    "import numpy as np\n",
    "import matplotlib.pyplot as plt"
   ]
  },
  {
   "cell_type": "markdown",
   "metadata": {},
   "source": [
    "## example data 2D gate & tag points"
   ]
  },
  {
   "cell_type": "code",
   "execution_count": null,
   "metadata": {
    "scrolled": true
   },
   "outputs": [],
   "source": [
    "gate_poses = np.array([[0.501, 1.326],      # tag 4\n",
    "                        [0.4675, 0.2515],    # tag 5\n",
    "                        [0.4835, -1.34]])    # tag 6\n",
    "\n",
    "tag_poses = np.array([[ 4.53256715,  1.32114674],\n",
    "                         [ 4.57090491,  0.29619518],\n",
    "                         [ 4.5174239,  -1.32085923]])\n",
    "\n",
    "plt.scatter(gate_poses[:,0],gate_poses[:,1])\n",
    "plt.scatter(tag_poses[:,0],tag_poses[:,1])\n",
    "plt.show()"
   ]
  },
  {
   "cell_type": "markdown",
   "metadata": {},
   "source": [
    "## steps to find best transform\n",
    "\n",
    "    - find point pairs  ------>  already paired\n",
    "    - compute centroids\n",
    "    - build the correlation matrix H\n",
    "    - estimate rotation matrix R using SVD\n",
    "    - estimate the translation vector t\n",
    "    - build the final transformation matrix T\n",
    "    - transform dataset m using the transform T"
   ]
  },
  {
   "cell_type": "code",
   "execution_count": null,
   "metadata": {},
   "outputs": [],
   "source": [
    "target = tag_poses\n",
    "model = gate_poses"
   ]
  },
  {
   "cell_type": "markdown",
   "metadata": {},
   "source": [
    "### compute centroids\n",
    "    c = (p1+p2+...+pn) / n"
   ]
  },
  {
   "cell_type": "code",
   "execution_count": null,
   "metadata": {},
   "outputs": [],
   "source": [
    "# c_target = \n",
    "# c_model = \n",
    "\n",
    "plt.scatter(model[:,0],model[:,1])\n",
    "plt.scatter(target[:,0],target[:,1])\n",
    "plt.scatter(c_target[0],c_target[1])\n",
    "plt.scatter(c_model[0],c_model[1])\n",
    "plt.show()"
   ]
  },
  {
   "cell_type": "markdown",
   "metadata": {},
   "source": [
    "### build the correlation matrix H \n",
    "    For H we first have to center/de-mean (move to the origin of the coordinate system) both datasets.\n",
    "    That is subtract the respective centroid from every point in the dataset:\n",
    "\n",
    "    P1d = P1 – Pc = [x1,y1]\n",
    "    P2d = P2 – Pc = [x2,y2]\n",
    "    P3d = P3 – Pc = [x3,y3]\n",
    "    \n",
    "    M = [[x1,x2,x3],\n",
    "         [y1,y2,y3]]\n",
    "    \n",
    "    H = M_model * M_target_transpose"
   ]
  },
  {
   "cell_type": "code",
   "execution_count": null,
   "metadata": {},
   "outputs": [],
   "source": [
    "# m_target = \n",
    "# m_model = \n",
    "\n",
    "# calculate correlation matrix\n",
    "# H = "
   ]
  },
  {
   "cell_type": "markdown",
   "metadata": {},
   "source": [
    "### estimate rotation matrix R using SVD\n",
    "    [U, D, V] = SVD(H)\n",
    "    Finally R can be computed as following:\n",
    "    R = U * V\n",
    "    \n",
    "    - numpy SVD: https://docs.scipy.org/doc/numpy-1.13.0/reference/generated/numpy.linalg.svd.html\n",
    "    "
   ]
  },
  {
   "cell_type": "code",
   "execution_count": null,
   "metadata": {},
   "outputs": [],
   "source": [
    "#U, D, V = \n",
    "\n",
    "# rotation =\n"
   ]
  },
  {
   "cell_type": "markdown",
   "metadata": {},
   "source": [
    "### estimate the translation vector t\n",
    "    P_model_centroid = rotation * P_target_centroid + translation\n",
    "   \n",
    "    translation = P_model_centroid - rotation * P_target_centroid\n",
    "    "
   ]
  },
  {
   "cell_type": "code",
   "execution_count": null,
   "metadata": {},
   "outputs": [],
   "source": [
    "#translation = "
   ]
  },
  {
   "cell_type": "markdown",
   "metadata": {},
   "source": [
    "### build the final transformation matrix T\n",
    "    T = [R t'\n",
    "         0 1]\n",
    "\n",
    "![title](matrix.png)"
   ]
  },
  {
   "cell_type": "code",
   "execution_count": null,
   "metadata": {},
   "outputs": [],
   "source": [
    "# transform ="
   ]
  },
  {
   "cell_type": "markdown",
   "metadata": {},
   "source": [
    "### transform dataset m using the transform T\n",
    "    target_Pi = T * model_Pi"
   ]
  },
  {
   "cell_type": "code",
   "execution_count": null,
   "metadata": {},
   "outputs": [],
   "source": [
    "\n",
    "plt.scatter(model[:,0],model[:,1])\n",
    "plt.scatter(target[:,0],target[:,1])\n",
    "plt.show()"
   ]
  },
  {
   "cell_type": "markdown",
   "metadata": {},
   "source": [
    "### combine best fit transform"
   ]
  },
  {
   "cell_type": "code",
   "execution_count": null,
   "metadata": {},
   "outputs": [],
   "source": [
    "def best_fit_transform( model, target):\n",
    "        ################## student implement ##################\n",
    "\n",
    "        # calculate centroid\n",
    "        #c_target = \n",
    "        #c_model = \n",
    "\n",
    "        # de mean\n",
    "        #m_target = \n",
    "        #m_model = \n",
    "\n",
    "        # calculate correlation matrix\n",
    "        #H = \n",
    "\n",
    "        # SVD decompose\n",
    "        #U, D, V = \n",
    "\n",
    "        # get Rotation & Translation\n",
    "        #rotation = \n",
    "        #translation = \n",
    "\n",
    "        # combine matrix\n",
    "        # transform = \n",
    "        ################## student implement ##################\n",
    "\n",
    "        return transform"
   ]
  },
  {
   "cell_type": "markdown",
   "metadata": {},
   "source": [
    "### ICP"
   ]
  },
  {
   "cell_type": "code",
   "execution_count": null,
   "metadata": {},
   "outputs": [],
   "source": [
    "total_tf = np.identity(tag_poses.shape[0])\n",
    "for iteration in range(4):\n",
    "    transform = best_fit_transform(gate_poses,tag_poses)\n",
    "    print'transform:'\n",
    "    print transform\n",
    "    total_tf = np.dot(transform,total_tf)\n",
    "    \n",
    "    for i in range(tag_poses.shape[0]):\n",
    "        tag_poses[i] = transform[0:2, 2] + np.matmul(transform[0:2, 0:2], tag_poses[i])\n",
    "        \n",
    "    print'l2:%f'%np.linalg.norm(gate_poses-tag_poses)\n",
    "    plt.scatter(gate_poses[:,0],gate_poses[:,1])\n",
    "    plt.scatter(tag_poses[:,0],tag_poses[:,1])\n",
    "    plt.show()\n",
    "\n",
    "print 'total tf:'\n",
    "print total_tf"
   ]
  }
 ],
 "metadata": {
  "kernelspec": {
   "display_name": "Python 2",
   "language": "python",
   "name": "python2"
  },
  "language_info": {
   "codemirror_mode": {
    "name": "ipython",
    "version": 3
   },
   "file_extension": ".py",
   "mimetype": "text/x-python",
   "name": "python",
   "nbconvert_exporter": "python",
   "pygments_lexer": "ipython3",
   "version": "3.6.9"
  }
 },
 "nbformat": 4,
 "nbformat_minor": 2
}
